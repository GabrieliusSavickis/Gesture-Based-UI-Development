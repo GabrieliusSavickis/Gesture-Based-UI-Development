{
 "cells": [
  {
   "cell_type": "code",
   "execution_count": 6,
   "metadata": {},
   "outputs": [
    {
     "data": {
      "text/html": [
       "<div>\n",
       "<style scoped>\n",
       "    .dataframe tbody tr th:only-of-type {\n",
       "        vertical-align: middle;\n",
       "    }\n",
       "\n",
       "    .dataframe tbody tr th {\n",
       "        vertical-align: top;\n",
       "    }\n",
       "\n",
       "    .dataframe thead th {\n",
       "        text-align: right;\n",
       "    }\n",
       "</style>\n",
       "<table border=\"1\" class=\"dataframe\">\n",
       "  <thead>\n",
       "    <tr style=\"text-align: right;\">\n",
       "      <th></th>\n",
       "      <th>Unnamed: 0</th>\n",
       "      <th>AltitudeVariation</th>\n",
       "      <th>VehicleSpeedInstantaneous</th>\n",
       "      <th>VehicleSpeedAverage</th>\n",
       "      <th>VehicleSpeedVariance</th>\n",
       "      <th>VehicleSpeedVariation</th>\n",
       "      <th>LongitudinalAcceleration</th>\n",
       "      <th>EngineLoad</th>\n",
       "      <th>EngineCoolantTemperature</th>\n",
       "      <th>ManifoldAbsolutePressure</th>\n",
       "      <th>EngineRPM</th>\n",
       "      <th>MassAirFlow</th>\n",
       "      <th>IntakeAirTemperature</th>\n",
       "      <th>VerticalAcceleration</th>\n",
       "      <th>FuelConsumptionAverage</th>\n",
       "      <th>roadSurface</th>\n",
       "      <th>traffic</th>\n",
       "      <th>drivingStyle</th>\n",
       "    </tr>\n",
       "  </thead>\n",
       "  <tbody>\n",
       "    <tr>\n",
       "      <th>0</th>\n",
       "      <td>59</td>\n",
       "      <td>-13.399994</td>\n",
       "      <td>20.699999</td>\n",
       "      <td>6.060</td>\n",
       "      <td>115.840061</td>\n",
       "      <td>-4.500000</td>\n",
       "      <td>1.0548</td>\n",
       "      <td>38.039215</td>\n",
       "      <td>31.0</td>\n",
       "      <td>101.0</td>\n",
       "      <td>798.0</td>\n",
       "      <td>6.22</td>\n",
       "      <td>15.0</td>\n",
       "      <td>-0.5982</td>\n",
       "      <td>27.919697</td>\n",
       "      <td>SmoothCondition</td>\n",
       "      <td>LowCongestionCondition</td>\n",
       "      <td>EvenPaceStyle</td>\n",
       "    </tr>\n",
       "    <tr>\n",
       "      <th>1</th>\n",
       "      <td>60</td>\n",
       "      <td>-13.200005</td>\n",
       "      <td>17.100000</td>\n",
       "      <td>6.345</td>\n",
       "      <td>117.200816</td>\n",
       "      <td>-3.599998</td>\n",
       "      <td>0.9012</td>\n",
       "      <td>38.039215</td>\n",
       "      <td>31.0</td>\n",
       "      <td>101.0</td>\n",
       "      <td>797.5</td>\n",
       "      <td>6.27</td>\n",
       "      <td>15.0</td>\n",
       "      <td>-0.5244</td>\n",
       "      <td>26.458355</td>\n",
       "      <td>SmoothCondition</td>\n",
       "      <td>LowCongestionCondition</td>\n",
       "      <td>EvenPaceStyle</td>\n",
       "    </tr>\n",
       "    <tr>\n",
       "      <th>2</th>\n",
       "      <td>61</td>\n",
       "      <td>-13.200005</td>\n",
       "      <td>14.400000</td>\n",
       "      <td>6.585</td>\n",
       "      <td>117.559595</td>\n",
       "      <td>-2.700001</td>\n",
       "      <td>0.9331</td>\n",
       "      <td>90.588234</td>\n",
       "      <td>32.0</td>\n",
       "      <td>101.0</td>\n",
       "      <td>797.5</td>\n",
       "      <td>6.27</td>\n",
       "      <td>15.0</td>\n",
       "      <td>-0.5068</td>\n",
       "      <td>26.458355</td>\n",
       "      <td>SmoothCondition</td>\n",
       "      <td>LowCongestionCondition</td>\n",
       "      <td>EvenPaceStyle</td>\n",
       "    </tr>\n",
       "    <tr>\n",
       "      <th>3</th>\n",
       "      <td>62</td>\n",
       "      <td>-11.800003</td>\n",
       "      <td>14.400000</td>\n",
       "      <td>6.825</td>\n",
       "      <td>117.801222</td>\n",
       "      <td>0.000000</td>\n",
       "      <td>0.9878</td>\n",
       "      <td>90.588234</td>\n",
       "      <td>32.0</td>\n",
       "      <td>101.0</td>\n",
       "      <td>726.0</td>\n",
       "      <td>8.63</td>\n",
       "      <td>15.0</td>\n",
       "      <td>-0.4882</td>\n",
       "      <td>26.004126</td>\n",
       "      <td>SmoothCondition</td>\n",
       "      <td>LowCongestionCondition</td>\n",
       "      <td>EvenPaceStyle</td>\n",
       "    </tr>\n",
       "    <tr>\n",
       "      <th>4</th>\n",
       "      <td>63</td>\n",
       "      <td>-19.800003</td>\n",
       "      <td>14.400000</td>\n",
       "      <td>7.065</td>\n",
       "      <td>117.925697</td>\n",
       "      <td>0.000000</td>\n",
       "      <td>1.1316</td>\n",
       "      <td>92.941177</td>\n",
       "      <td>32.0</td>\n",
       "      <td>101.0</td>\n",
       "      <td>784.0</td>\n",
       "      <td>8.88</td>\n",
       "      <td>15.0</td>\n",
       "      <td>-0.6712</td>\n",
       "      <td>25.295498</td>\n",
       "      <td>SmoothCondition</td>\n",
       "      <td>LowCongestionCondition</td>\n",
       "      <td>EvenPaceStyle</td>\n",
       "    </tr>\n",
       "  </tbody>\n",
       "</table>\n",
       "</div>"
      ],
      "text/plain": [
       "   Unnamed: 0  AltitudeVariation  VehicleSpeedInstantaneous  \\\n",
       "0          59         -13.399994                  20.699999   \n",
       "1          60         -13.200005                  17.100000   \n",
       "2          61         -13.200005                  14.400000   \n",
       "3          62         -11.800003                  14.400000   \n",
       "4          63         -19.800003                  14.400000   \n",
       "\n",
       "   VehicleSpeedAverage  VehicleSpeedVariance  VehicleSpeedVariation  \\\n",
       "0                6.060            115.840061              -4.500000   \n",
       "1                6.345            117.200816              -3.599998   \n",
       "2                6.585            117.559595              -2.700001   \n",
       "3                6.825            117.801222               0.000000   \n",
       "4                7.065            117.925697               0.000000   \n",
       "\n",
       "   LongitudinalAcceleration  EngineLoad  EngineCoolantTemperature  \\\n",
       "0                    1.0548   38.039215                      31.0   \n",
       "1                    0.9012   38.039215                      31.0   \n",
       "2                    0.9331   90.588234                      32.0   \n",
       "3                    0.9878   90.588234                      32.0   \n",
       "4                    1.1316   92.941177                      32.0   \n",
       "\n",
       "   ManifoldAbsolutePressure  EngineRPM  MassAirFlow  IntakeAirTemperature  \\\n",
       "0                     101.0      798.0         6.22                  15.0   \n",
       "1                     101.0      797.5         6.27                  15.0   \n",
       "2                     101.0      797.5         6.27                  15.0   \n",
       "3                     101.0      726.0         8.63                  15.0   \n",
       "4                     101.0      784.0         8.88                  15.0   \n",
       "\n",
       "   VerticalAcceleration  FuelConsumptionAverage      roadSurface  \\\n",
       "0               -0.5982               27.919697  SmoothCondition   \n",
       "1               -0.5244               26.458355  SmoothCondition   \n",
       "2               -0.5068               26.458355  SmoothCondition   \n",
       "3               -0.4882               26.004126  SmoothCondition   \n",
       "4               -0.6712               25.295498  SmoothCondition   \n",
       "\n",
       "                  traffic   drivingStyle  \n",
       "0  LowCongestionCondition  EvenPaceStyle  \n",
       "1  LowCongestionCondition  EvenPaceStyle  \n",
       "2  LowCongestionCondition  EvenPaceStyle  \n",
       "3  LowCongestionCondition  EvenPaceStyle  \n",
       "4  LowCongestionCondition  EvenPaceStyle  "
      ]
     },
     "execution_count": 6,
     "metadata": {},
     "output_type": "execute_result"
    }
   ],
   "source": [
    "import pandas as pd\n",
    "\n",
    "# Load one of the datasets to get an overview\n",
    "# We'll start with the Peugeot dataset as an example\n",
    "df_peugeot_1 = pd.read_csv('peugeot_207_01.csv', delimiter=';')\n",
    "\n",
    "# Display the first few rows of the dataset to understand its structure\n",
    "df_peugeot_1.head()"
   ]
  },
  {
   "cell_type": "code",
   "execution_count": 7,
   "metadata": {},
   "outputs": [
    {
     "name": "stderr",
     "output_type": "stream",
     "text": [
      "C:\\Users\\User\\AppData\\Local\\Temp\\ipykernel_19316\\3421096929.py:8: SettingWithCopyWarning: \n",
      "A value is trying to be set on a copy of a slice from a DataFrame.\n",
      "Try using .loc[row_indexer,col_indexer] = value instead\n",
      "\n",
      "See the caveats in the documentation: https://pandas.pydata.org/pandas-docs/stable/user_guide/indexing.html#returning-a-view-versus-a-copy\n",
      "  df_clean['traffic_encoded'] = le.fit_transform(df_clean['traffic'])\n"
     ]
    },
    {
     "data": {
      "text/plain": [
       "(                  traffic  traffic_encoded\n",
       " 0  LowCongestionCondition                1\n",
       " 1  LowCongestionCondition                1\n",
       " 2  LowCongestionCondition                1\n",
       " 3  LowCongestionCondition                1\n",
       " 4  LowCongestionCondition                1,\n",
       " array(['HighCongestionCondition', 'LowCongestionCondition',\n",
       "        'NormalCongestionCondition'], dtype=object))"
      ]
     },
     "execution_count": 7,
     "metadata": {},
     "output_type": "execute_result"
    }
   ],
   "source": [
    "from sklearn.preprocessing import LabelEncoder\n",
    "\n",
    "# Remove rows with missing values\n",
    "df_clean = df_peugeot_1.dropna()\n",
    "\n",
    "# Encode the 'traffic' column\n",
    "le = LabelEncoder()\n",
    "df_clean['traffic_encoded'] = le.fit_transform(df_clean['traffic'])\n",
    "\n",
    "# Display the first few rows of the cleaned dataset and the encoding\n",
    "df_clean[['traffic', 'traffic_encoded']].head(), le.classes_\n"
   ]
  },
  {
   "cell_type": "code",
   "execution_count": 8,
   "metadata": {},
   "outputs": [
    {
     "data": {
      "text/plain": [
       "((6553, 14), (1639, 14), (6553,), (1639,))"
      ]
     },
     "execution_count": 8,
     "metadata": {},
     "output_type": "execute_result"
    }
   ],
   "source": [
    "from sklearn.model_selection import train_test_split\n",
    "\n",
    "# Selecting features for the model\n",
    "# Excluding 'traffic' and 'drivingStyle' as they are target variables and 'roadSurface' which is not relevant for this task\n",
    "features = df_clean.columns.drop(['Unnamed: 0', 'traffic', 'traffic_encoded', 'drivingStyle', 'roadSurface'])\n",
    "X = df_clean[features]\n",
    "y = df_clean['traffic_encoded']\n",
    "\n",
    "# Splitting the dataset into training and testing sets\n",
    "X_train, X_test, y_train, y_test = train_test_split(X, y, test_size=0.2, random_state=42)\n",
    "\n",
    "# Display the shapes of the training and testing sets to confirm the split\n",
    "X_train.shape, X_test.shape, y_train.shape, y_test.shape\n"
   ]
  },
  {
   "cell_type": "code",
   "execution_count": 9,
   "metadata": {},
   "outputs": [
    {
     "name": "stderr",
     "output_type": "stream",
     "text": [
      "c:\\Users\\User\\anaconda3\\lib\\site-packages\\sklearn\\linear_model\\_logistic.py:460: ConvergenceWarning: lbfgs failed to converge (status=1):\n",
      "STOP: TOTAL NO. of ITERATIONS REACHED LIMIT.\n",
      "\n",
      "Increase the number of iterations (max_iter) or scale the data as shown in:\n",
      "    https://scikit-learn.org/stable/modules/preprocessing.html\n",
      "Please also refer to the documentation for alternative solver options:\n",
      "    https://scikit-learn.org/stable/modules/linear_model.html#logistic-regression\n",
      "  n_iter_i = _check_optimize_result(\n"
     ]
    },
    {
     "data": {
      "text/plain": [
       "(0.825503355704698, 0.8913971934106162, 0.87614399023795)"
      ]
     },
     "execution_count": 9,
     "metadata": {},
     "output_type": "execute_result"
    }
   ],
   "source": [
    "from sklearn.svm import SVC\n",
    "from sklearn.linear_model import LogisticRegression\n",
    "from sklearn.neighbors import KNeighborsClassifier\n",
    "from sklearn.metrics import accuracy_score, classification_report\n",
    "\n",
    "# Initialize the models with default parameters\n",
    "svm_model = SVC()\n",
    "logistic_model = LogisticRegression(max_iter=1000)  # Increased max_iter for convergence\n",
    "knn_model = KNeighborsClassifier()\n",
    "\n",
    "# Train the SVM model\n",
    "svm_model.fit(X_train, y_train)\n",
    "# Predictions on the test set\n",
    "svm_predictions = svm_model.predict(X_test)\n",
    "# SVM Evaluation\n",
    "svm_accuracy = accuracy_score(y_test, svm_predictions)\n",
    "\n",
    "# Train the Logistic Regression model\n",
    "logistic_model.fit(X_train, y_train)\n",
    "# Predictions on the test set\n",
    "logistic_predictions = logistic_model.predict(X_test)\n",
    "# Logistic Regression Evaluation\n",
    "logistic_accuracy = accuracy_score(y_test, logistic_predictions)\n",
    "\n",
    "# Train the kNN model\n",
    "knn_model.fit(X_train, y_train)\n",
    "# Predictions on the test set\n",
    "knn_predictions = knn_model.predict(X_test)\n",
    "# kNN Evaluation\n",
    "knn_accuracy = accuracy_score(y_test, knn_predictions)\n",
    "\n",
    "# Display the accuracy of each model\n",
    "svm_accuracy, logistic_accuracy, knn_accuracy\n"
   ]
  },
  {
   "cell_type": "code",
   "execution_count": 10,
   "metadata": {},
   "outputs": [
    {
     "name": "stdout",
     "output_type": "stream",
     "text": [
      "                           precision    recall  f1-score   support\n",
      "\n",
      "  HighCongestionCondition       0.76      0.77      0.77       138\n",
      "   LowCongestionCondition       0.91      0.98      0.95      1353\n",
      "NormalCongestionCondition       0.63      0.18      0.28       148\n",
      "\n",
      "                 accuracy                           0.89      1639\n",
      "                macro avg       0.77      0.64      0.66      1639\n",
      "             weighted avg       0.87      0.89      0.87      1639\n",
      "\n"
     ]
    }
   ],
   "source": [
    "# Detailed evaluation of the best performing model (Logistic Regression)\n",
    "logistic_report = classification_report(y_test, logistic_predictions, target_names=le.classes_)\n",
    "\n",
    "# Display the classification report\n",
    "print(logistic_report)\n"
   ]
  },
  {
   "cell_type": "code",
   "execution_count": 11,
   "metadata": {},
   "outputs": [
    {
     "data": {
      "text/plain": [
       "0.7986838898367048"
      ]
     },
     "execution_count": 11,
     "metadata": {},
     "output_type": "execute_result"
    }
   ],
   "source": [
    "from sklearn.preprocessing import StandardScaler\n",
    "from imblearn.over_sampling import SMOTE\n",
    "\n",
    "# Feature Scaling\n",
    "scaler = StandardScaler()\n",
    "X_scaled = scaler.fit_transform(X)\n",
    "\n",
    "# Balancing the dataset using SMOTE\n",
    "smote = SMOTE(random_state=42)\n",
    "X_balanced, y_balanced = smote.fit_resample(X_scaled, y)\n",
    "\n",
    "# Splitting the balanced and scaled dataset into training and testing sets\n",
    "X_train_balanced, X_test_balanced, y_train_balanced, y_test_balanced = train_test_split(X_balanced, y_balanced, test_size=0.2, random_state=42)\n",
    "\n",
    "# Train the Logistic Regression model on the balanced and scaled data for comparison\n",
    "logistic_model_balanced = LogisticRegression(max_iter=1000)\n",
    "logistic_model_balanced.fit(X_train_balanced, y_train_balanced)\n",
    "\n",
    "# Predictions and evaluation\n",
    "logistic_predictions_balanced = logistic_model_balanced.predict(X_test_balanced)\n",
    "logistic_accuracy_balanced = accuracy_score(y_test_balanced, logistic_predictions_balanced)\n",
    "\n",
    "# Display the new accuracy of the Logistic Regression model after balancing and scaling\n",
    "logistic_accuracy_balanced\n",
    "\n",
    "\n"
   ]
  },
  {
   "cell_type": "code",
   "execution_count": 12,
   "metadata": {},
   "outputs": [
    {
     "name": "stdout",
     "output_type": "stream",
     "text": [
      "                           precision    recall  f1-score   support\n",
      "\n",
      "  HighCongestionCondition       0.86      0.95      0.90      1359\n",
      "   LowCongestionCondition       0.78      0.71      0.74      1353\n",
      "NormalCongestionCondition       0.75      0.74      0.74      1391\n",
      "\n",
      "                 accuracy                           0.80      4103\n",
      "                macro avg       0.80      0.80      0.80      4103\n",
      "             weighted avg       0.80      0.80      0.80      4103\n",
      "\n"
     ]
    },
    {
     "ename": "",
     "evalue": "",
     "output_type": "error",
     "traceback": [
      "\u001b[1;31mThe Kernel crashed while executing code in the current cell or a previous cell. \n",
      "\u001b[1;31mPlease review the code in the cell(s) to identify a possible cause of the failure. \n",
      "\u001b[1;31mClick <a href='https://aka.ms/vscodeJupyterKernelCrash'>here</a> for more info. \n",
      "\u001b[1;31mView Jupyter <a href='command:jupyter.viewOutput'>log</a> for further details."
     ]
    }
   ],
   "source": [
    "# Generating the classification report for the Logistic Regression model trained on the balanced and scaled dataset\n",
    "classification_report_balanced = classification_report(y_test_balanced, logistic_predictions_balanced, target_names=le.classes_)\n",
    "\n",
    "# Display the classification report\n",
    "print(classification_report_balanced)\n"
   ]
  }
 ],
 "metadata": {
  "kernelspec": {
   "display_name": "Python 3",
   "language": "python",
   "name": "python3"
  },
  "language_info": {
   "codemirror_mode": {
    "name": "ipython",
    "version": 3
   },
   "file_extension": ".py",
   "mimetype": "text/x-python",
   "name": "python",
   "nbconvert_exporter": "python",
   "pygments_lexer": "ipython3",
   "version": "3.9.18"
  }
 },
 "nbformat": 4,
 "nbformat_minor": 2
}
